{
 "cells": [
  {
   "cell_type": "markdown",
   "metadata": {},
   "source": [
    "# PRAW API Web Srapy\n",
    "Praw API Hot posts means **Trending Posts**\n",
    "Extract PostId UserID URL"
   ]
  },
  {
   "cell_type": "code",
   "execution_count": null,
   "metadata": {},
   "outputs": [],
   "source": [
    "import praw\n",
    "import pandas as pd\n",
    "from datetime import datetime\n",
    "from praw.models import MoreComments\n",
    "\n",
    "# Enter your client id, secret and user agent\n",
    "reddit = praw.Reddit(client_id = 'k_irONQxgcqWFg', \n",
    "                     client_secret = 'A6udBWn-8PXi2p7X34K7HT5THiA', \n",
    "                     user_agent = 'Test')\n",
    "\n",
    "# Reddit groups that Drew wants us to look at\n",
    "Reddit_groups = ['depression', 'anxiety', 'OCD', 'socialanxiety', 'panicdisorder']\n",
    "\n",
    "# Create a dataframe to store text data\n",
    "def posts_to_df():\n",
    "    # Write a loop to put hot post from all groups and their key info into one dataframe\n",
    "    posts = []\n",
    "    for group in Reddit_groups:\n",
    "        mental_subreddit = reddit.subreddit(group)\n",
    "        for post in mental_subreddit.hot(limit=10): # you can change the top number of posts \n",
    "\n",
    "            posts.append([group, post.title, post.url])\n",
    "\n",
    "    posts = pd.DataFrame(posts, columns = ['group','title', 'url']) \n",
    "    \n",
    "    return posts"
   ]
  },
  {
   "cell_type": "code",
   "execution_count": null,
   "metadata": {},
   "outputs": [],
   "source": [
    "# Insert today's date MM-DD-YYYY\n",
    "import datetime\n",
    "\n",
    "def get_date():\n",
    "    \"\"\"\n",
    "    Get today's date (MM-DD-YYYY)\n",
    "    \"\"\"\n",
    "    d = datetime.datetime.today()\n",
    "    date = d.strftime('%m-%d-%Y')\n",
    "    \n",
    "    return date"
   ]
  },
  {
   "cell_type": "markdown",
   "metadata": {},
   "source": [
    "# Google Spreadsheets\n",
    "It will automatically upload **MM-DD-YYYY, Title Hot_Key_Words and Body Hot_Key_Words** to spreadsheet"
   ]
  },
  {
   "cell_type": "code",
   "execution_count": null,
   "metadata": {},
   "outputs": [],
   "source": [
    "import gspread\n",
    "from oauth2client.service_account import ServiceAccountCredentials\n",
    "\n",
    "import time\n",
    "import pprint\n",
    "pp = pprint.PrettyPrinter()\n",
    "\n",
    "# Enter key and spreadsheet key, name\n",
    "json_key_file_name = 'New_Google.json'\n",
    "spreadsheet_name = 'Popular Posts'\n",
    "worksheet_list = ['Depression', 'Anxiety', 'OCD', 'Social Anxiety', 'Panic Disorder']\n",
    "\n",
    "# credentials and client API\n",
    "scope = ['https://spreadsheets.google.com/feeds','https://www.googleapis.com/auth/drive'] # access spreasheet and drive\n",
    "creds = ServiceAccountCredentials.from_json_keyfile_name(json_key_file_name, scope) # enter your json file name\n",
    "client = gspread.authorize(creds) \n",
    "\n",
    "# Open worksheet and append dataframe\n",
    "def upload_to_sheet(df, subreddit):\n",
    "    idx = Reddit_groups.index(subreddit)\n",
    "    sheet = client.open(spreadsheet_name).worksheet(worksheet_list[idx]) # open spreadsheet and then worksheet\n",
    "    data_list = df.values.tolist()\n",
    "    for info in data_list:\n",
    "        sheet.insert_row(info, index=5) # add a row to worksheet"
   ]
  },
  {
   "cell_type": "code",
   "execution_count": null,
   "metadata": {},
   "outputs": [],
   "source": [
    "# Main Function\n",
    "if __name__ == \"__main__\":\n",
    "    \n",
    "    count = 0\n",
    "    while count < 1:\n",
    "        df = posts_to_df() # get posts title and body dataframe\n",
    "        date = get_date()\n",
    "        \n",
    "        df['date'] = date\n",
    "        df = df[['date','group','title','url']] # change the order of cloumn\n",
    "        # write a for loop to iterate group\n",
    "        for subreddit in Reddit_groups:\n",
    "            data = df[df.group == subreddit]\n",
    "            data = data.drop(['group'],axis=1)\n",
    "            upload_to_sheet(data,subreddit)\n",
    "        \n",
    "        count += 1 # set up count for while loops\n",
    "        time.sleep(300) # set up sleep time, 86400 second for a day\n",
    "        "
   ]
  },
  {
   "cell_type": "code",
   "execution_count": null,
   "metadata": {},
   "outputs": [],
   "source": [
    "# Tutorial use AWS EC2\n",
    "# https://medium.com/automation-generation/step-by-step-guide-to-run-a-simple-trading-algorithm-in-the-cloud-using-python-alpaca-and-aws-34c899b678b0\n",
    "\n",
    "# problems occured when install packages on aws ec2 and fixed by below solution \n",
    "# https://github.com/googlesamples/assistant-sdk-python/issues/236 \n",
    "\n",
    "# install required packaged (not complete)\n",
    "# pip install praw\n",
    "# pip install nltk\n",
    "# python -m spacy download en\n"
   ]
  }
 ],
 "metadata": {
  "kernelspec": {
   "display_name": "Python 3",
   "language": "python",
   "name": "python3"
  },
  "language_info": {
   "codemirror_mode": {
    "name": "ipython",
    "version": 3
   },
   "file_extension": ".py",
   "mimetype": "text/x-python",
   "name": "python",
   "nbconvert_exporter": "python",
   "pygments_lexer": "ipython3",
   "version": "3.7.4"
  }
 },
 "nbformat": 4,
 "nbformat_minor": 2
}
